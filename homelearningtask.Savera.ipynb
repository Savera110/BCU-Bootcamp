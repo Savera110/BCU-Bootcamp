{
 "cells": [
  {
   "cell_type": "code",
   "execution_count": null,
   "metadata": {},
   "outputs": [],
   "source": [
    "import random"
   ]
  },
  {
   "cell_type": "code",
   "execution_count": null,
   "metadata": {},
   "outputs": [],
   "source": [
    "random.randint(1,10)\n",
    "# importing random numbers\n"
   ]
  },
  {
   "cell_type": "code",
   "execution_count": null,
   "metadata": {},
   "outputs": [],
   "source": [
    "# TASK 1\n",
    "user_name = input(\"what is your name\")\n",
    "#user can guess num 1-10\n",
    "x = random.randint(1,10)\n",
    "print(\" + user_name +\", \"guessing number betweeen 1-10\")\n",
    "user_guess = int(input(\"guess number\"))\n",
    "\n",
    "if user_guess == x:\n",
    "    print(\"you are right\")\n",
    "else:\n",
    "    print(\"try again\")\n"
   ]
  },
  {
   "cell_type": "code",
   "execution_count": null,
   "metadata": {},
   "outputs": [],
   "source": [
    "# TASK 2\n",
    "fav_num = input(\"what is your favourite number between 1-100\")\n",
    "x = random.randint(1,100)\n",
    "print(fav_num)\n",
    "selected_fav_num = int(input(\"favourite number in 1-100\"))\n",
    "\n",
    "if x == 10:\n",
    "    print(\"I had a dream where an evil queen forced me to eat a gigantic marshmallow.When I woke up, my pillow was gone.\")\n",
    "elif x == 50:\n",
    "    print(\"Dentist: \"You need a crown\", Patient\"Finally someone who understands me.\"\")\n",
    "else:\n",
    "    print(\"Doctor: You're obese.Patient: For that I definitely want a second opinion.Doctor: You’re quite ugly, too\")"
   ]
  },
  {
   "cell_type": "code",
   "execution_count": null,
   "metadata": {},
   "outputs": [],
   "source": [
    "# TASK 4\n",
    "for i in range(): \n",
    "    print(\"The value of i is:\", i)\n",
    "i = 2000\n",
    "\n",
    "while i == 1000:\n",
    "    print(\"The value of i is:\", i)\n",
    "    i /= 0.10 \n",
    "\n",
    "\n"
   ]
  },
  {
   "cell_type": "code",
   "execution_count": null,
   "metadata": {},
   "outputs": [],
   "source": [
    "# TASK 5\n",
    "x = 10\n",
    "a = x + 10\n",
    "b = x - 10\n",
    "user_input = input(\"Which two operators you want to choose from a or b?\")\n",
    "user_choice = str(input(\"enter a if you want to add or enter b if you want to subtract\"))\n",
    "\n",
    "if user_choice == a :\n",
    "    print(a)\n",
    "else:\n",
    "    print(b)   \n",
    "\n",
    "\n"
   ]
  },
  {
   "cell_type": "code",
   "execution_count": null,
   "metadata": {},
   "outputs": [],
   "source": [
    "# TASK 4\n",
    "\n",
    "favourite_menu = int(input(\"order please +1. Stater(prawn toast) +2.Course(grilled chicken) +3.Dessert(choclate icecream) +4.Drink(cocacola)\")\n",
    "\n",
    "if favourite_menu == 1:\n",
    "    print(\"prawn taost\")\n",
    "\n",
    "elif favourite_menu == 2:\n",
    "     print(\"grilled chicken\") \n",
    "\n",
    "elif favourite_menu == 3:\n",
    "    print(\"choclate icecream\") \n",
    "\n",
    "elif favourite_menu == 4:\n",
    "    print(\"cocacola\")   \n",
    "\n",
    "else:\n",
    "    print(\"please select the correct option\")\n"
   ]
  }
 ],
 "metadata": {
  "interpreter": {
   "hash": "b89b5cfaba6639976dc87ff2fec6d58faec662063367e2c229c520fe71072417"
  },
  "kernelspec": {
   "display_name": "Python 3.10.1 64-bit",
   "language": "python",
   "name": "python3"
  },
  "language_info": {
   "codemirror_mode": {
    "name": "ipython",
    "version": 3
   },
   "file_extension": ".py",
   "mimetype": "text/x-python",
   "name": "python",
   "nbconvert_exporter": "python",
   "pygments_lexer": "ipython3",
   "version": "3.10.1"
  },
  "orig_nbformat": 4
 },
 "nbformat": 4,
 "nbformat_minor": 2
}
